{
  "nbformat": 4,
  "nbformat_minor": 0,
  "metadata": {
    "colab": {
      "name": "Age Prediction.ipynb",
      "provenance": [],
      "collapsed_sections": [],
      "machine_shape": "hm"
    },
    "kernelspec": {
      "name": "python3",
      "display_name": "Python 3"
    }
  },
  "cells": [
    {
      "cell_type": "markdown",
      "metadata": {
        "id": "0GS8_-RwVfp1",
        "colab_type": "text"
      },
      "source": [
        "# Setup"
      ]
    },
    {
      "cell_type": "code",
      "metadata": {
        "id": "M-R3KxnbVTGa",
        "colab_type": "code",
        "outputId": "5dd92b1e-5a02-4b0a-f0ef-9a625276620c",
        "colab": {
          "base_uri": "https://localhost:8080/",
          "height": 34
        }
      },
      "source": [
        "%tensorflow_version 1.x\n",
        "from sklearn.model_selection import train_test_split\n",
        "import os\n",
        "%matplotlib inline\n",
        "import pickle\n",
        "import numpy as np\n",
        "import pandas as pd\n",
        "\n",
        "import matplotlib.pyplot as plt\n",
        "\n",
        "from keras.preprocessing import image\n",
        "#from keras.applications.vgg16 import preprocess_input\n",
        "#from sklearn.model_selection import train_test_split\n",
        "\n",
        "from keras.applications.xception import preprocess_input\n",
        "from keras.applications.xception import Xception\n",
        "\n",
        "from keras.layers import BatchNormalization,Dropout,InputLayer,Dense\n",
        "from keras.models import Sequential\n",
        "from keras.callbacks import EarlyStopping\n",
        "from keras.preprocessing import image\n",
        "from keras.optimizers import Adam"
      ],
      "execution_count": 0,
      "outputs": [
        {
          "output_type": "stream",
          "text": [
            "Using TensorFlow backend.\n"
          ],
          "name": "stderr"
        }
      ]
    },
    {
      "cell_type": "code",
      "metadata": {
        "id": "I6xFmsOIhGhF",
        "colab_type": "code",
        "outputId": "b4637f25-8f3b-4da2-f644-d3f58ed64ac2",
        "colab": {
          "base_uri": "https://localhost:8080/",
          "height": 122
        }
      },
      "source": [
        "from google.colab import drive\n",
        "drive.mount('/content/drive/')"
      ],
      "execution_count": 0,
      "outputs": [
        {
          "output_type": "stream",
          "text": [
            "Go to this URL in a browser: https://accounts.google.com/o/oauth2/auth?client_id=947318989803-6bn6qk8qdgf4n4g3pfee6491hc0brc4i.apps.googleusercontent.com&redirect_uri=urn%3Aietf%3Awg%3Aoauth%3A2.0%3Aoob&scope=email%20https%3A%2F%2Fwww.googleapis.com%2Fauth%2Fdocs.test%20https%3A%2F%2Fwww.googleapis.com%2Fauth%2Fdrive%20https%3A%2F%2Fwww.googleapis.com%2Fauth%2Fdrive.photos.readonly%20https%3A%2F%2Fwww.googleapis.com%2Fauth%2Fpeopleapi.readonly&response_type=code\n",
            "\n",
            "Enter your authorization code:\n",
            "··········\n",
            "Mounted at /content/drive/\n"
          ],
          "name": "stdout"
        }
      ]
    },
    {
      "cell_type": "markdown",
      "metadata": {
        "id": "9fAn9tykXIZe",
        "colab_type": "text"
      },
      "source": [
        "Defining the path for image directory "
      ]
    },
    {
      "cell_type": "code",
      "metadata": {
        "id": "u5MjNy74Wp2F",
        "colab_type": "code",
        "colab": {}
      },
    "source": [
        "path = input('Enter path of directory') \n",
        "os.chdir(path)\n",
        "img_dir = path + \"/images/\""
      ],
      "execution_count": 0,
      "outputs": []
    },
    {
      "cell_type": "code",
      "metadata": {
        "id": "zFW9ZPH4hDAS",
        "colab_type": "code",
        "colab": {}
      },
      "source": [
        "#path of files\n",
        "\n",
        "train_csv_file = path + \"/train.csv\"\n"
      ],
      "execution_count": 0,
      "outputs": []
    },
    {
      "cell_type": "code",
      "metadata": {
        "id": "Uso4cBp8XEWG",
        "colab_type": "code",
        "colab": {}
      },
      "source": [
        "data = pd.read_csv(train_csv_file)"
      ],
      "execution_count": 0,
      "outputs": []
    },
    {
      "cell_type": "code",
      "metadata": {
        "id": "ivR5Vuec19eo",
        "colab_type": "code",
        "outputId": "50556cdb-b8b1-4e0b-c4dd-25f04d5b39a6",
        "colab": {
          "base_uri": "https://localhost:8080/",
          "height": 34
        }
      },
      "source": [
        "data.shape"
      ],
      "execution_count": 0,
      "outputs": [
        {
          "output_type": "execute_result",
          "data": {
            "text/plain": [
              "(13911, 2)"
            ]
          },
          "metadata": {
            "tags": []
          },
          "execution_count": 6
        }
      ]
    },
    {
      "cell_type": "markdown",
      "metadata": {
        "id": "uaUJH-b6jXlx",
        "colab_type": "text"
      },
      "source": [
        "# Loading, Pre-processing and splitting data  "
      ]
    },
    {
      "cell_type": "markdown",
      "metadata": {
        "id": "TQ3kvTo7jcel",
        "colab_type": "text"
      },
      "source": [
        "## Loading Data"
      ]
    },
    {
      "cell_type": "code",
      "metadata": {
        "id": "HZadPX4F1pLr",
        "colab_type": "code",
        "colab": {}
      },
      "source": [
        "files = data.image_names"
      ],
      "execution_count": 0,
      "outputs": []
    },
    {
      "cell_type": "code",
      "metadata": {
        "id": "8YaniL_3FCmM",
        "colab_type": "code",
        "colab": {}
      },
      "source": [
        "def load_img(filename):\n",
        "    img = image.load_img(filename, target_size=(150, 150,3))\n",
        "    img = image.img_to_array(img)\n",
        "    return img"
      ],
      "execution_count": 0,
      "outputs": []
    },
    {
      "cell_type": "code",
      "metadata": {
        "id": "PqpHtsEshF0g",
        "colab_type": "code",
        "colab": {}
      },
      "source": [
        "images = []"
      ],
      "execution_count": 0,
      "outputs": []
    },
    {
      "cell_type": "code",
      "metadata": {
        "id": "-YhT-iXX1akM",
        "colab_type": "code",
        "colab": {}
      },
      "source": [
        "for img_name in files:\n",
        "  filename = img_dir + img_name\n",
        "  img = load_img(filename)\n",
        "  images.append(img)\n",
        "\n",
        "\n",
        "file = open('images_list.pickle', 'wb') \n",
        "pickle.dump(images, file)                      \n",
        "file.close()\n"
      ],
      "execution_count": 0,
      "outputs": []
    },
    {
      "cell_type": "markdown",
      "metadata": {
        "id": "fCrn8Yq2s_q6",
        "colab_type": "text"
      },
      "source": [
        "Here, we have stored the images in pickle format, this makes it easier to load images, in case we need to run the code multiple times as readin images from directory every time is time consuming"
      ]
    },
    {
      "cell_type": "code",
      "metadata": {
        "id": "97dFN6VxhLWX",
        "colab_type": "code",
        "outputId": "323260d9-317d-41b7-af2b-e373ea6ab61d",
        "colab": {
          "base_uri": "https://localhost:8080/",
          "height": 34
        }
      },
      "source": [
        "file =  open(\"images_list.pickle\",\"rb\")\n",
        "images = pickle.load(file)\n",
        "file.close()\n",
        "print(len(images))"
      ],
      "execution_count": 0,
      "outputs": [
        {
          "output_type": "stream",
          "text": [
            "13911\n"
          ],
          "name": "stdout"
        }
      ]
    },
    {
      "cell_type": "markdown",
      "metadata": {
        "id": "ErxEb0YrpkRL",
        "colab_type": "text"
      },
      "source": [
        "## Pre-processing data"
      ]
    },
    {
      "cell_type": "code",
      "metadata": {
        "id": "ZS7-yr3BrO0c",
        "colab_type": "code",
        "colab": {}
      },
      "source": [
        "images = np.asarray(images)"
      ],
      "execution_count": 0,
      "outputs": []
    },
    {
      "cell_type": "code",
      "metadata": {
        "id": "8lwsD7GFjuqQ",
        "colab_type": "code",
        "outputId": "6e73120a-5f8c-4276-d54b-2ad7bc2cde22",
        "colab": {
          "base_uri": "https://localhost:8080/",
          "height": 34
        }
      },
      "source": [
        "images.shape"
      ],
      "execution_count": 0,
      "outputs": [
        {
          "output_type": "execute_result",
          "data": {
            "text/plain": [
              "(13911, 150, 150, 3)"
            ]
          },
          "metadata": {
            "tags": []
          },
          "execution_count": 13
        }
      ]
    },
    {
      "cell_type": "code",
      "metadata": {
        "id": "DAJB7ZgCj3gF",
        "colab_type": "code",
        "colab": {}
      },
      "source": [
        "X=preprocess_input(images)\n",
        "y = data.iloc[:, 1].values"
      ],
      "execution_count": 0,
      "outputs": []
    },
    {
      "cell_type": "markdown",
      "metadata": {
        "id": "VK6dGujXmc2M",
        "colab_type": "text"
      },
      "source": [
        "## Splitting data\n"
      ]
    },
    {
      "cell_type": "code",
      "metadata": {
        "id": "e6vh5Eetj6kN",
        "colab_type": "code",
        "colab": {}
      },
      "source": [
        "X_train, X_valid, Y_train, Y_valid=train_test_split(X,y,test_size=0.3, random_state=42) #stratify=y"
      ],
      "execution_count": 0,
      "outputs": []
    },
    {
      "cell_type": "markdown",
      "metadata": {
        "id": "sucBM4nNmBYv",
        "colab_type": "text"
      },
      "source": [
        "# Fine tune model for our problem"
      ]
    },
    {
      "cell_type": "markdown",
      "metadata": {
        "id": "RZl90fs6pYi5",
        "colab_type": "text"
      },
      "source": [
        "## Loading the pre-trained model"
      ]
    },
    {
      "cell_type": "code",
      "metadata": {
        "id": "22qhcVqtmG0C",
        "colab_type": "code",
        "outputId": "fa3fb282-a331-4144-8067-c1cd4401f42e",
        "colab": {
          "base_uri": "https://localhost:8080/",
          "height": 479
        }
      },
      "source": [
        "base_model = Xception(weights='imagenet', input_shape=(150, 150, 3), include_top=False)"
      ],
      "execution_count": 0,
      "outputs": [
        {
          "output_type": "stream",
          "text": [
            "WARNING:tensorflow:From /usr/local/lib/python3.6/dist-packages/keras/backend/tensorflow_backend.py:66: The name tf.get_default_graph is deprecated. Please use tf.compat.v1.get_default_graph instead.\n",
            "\n",
            "WARNING:tensorflow:From /usr/local/lib/python3.6/dist-packages/keras/backend/tensorflow_backend.py:541: The name tf.placeholder is deprecated. Please use tf.compat.v1.placeholder instead.\n",
            "\n",
            "WARNING:tensorflow:From /usr/local/lib/python3.6/dist-packages/keras/backend/tensorflow_backend.py:4432: The name tf.random_uniform is deprecated. Please use tf.random.uniform instead.\n",
            "\n",
            "WARNING:tensorflow:From /usr/local/lib/python3.6/dist-packages/keras/backend/tensorflow_backend.py:190: The name tf.get_default_session is deprecated. Please use tf.compat.v1.get_default_session instead.\n",
            "\n",
            "WARNING:tensorflow:From /usr/local/lib/python3.6/dist-packages/keras/backend/tensorflow_backend.py:197: The name tf.ConfigProto is deprecated. Please use tf.compat.v1.ConfigProto instead.\n",
            "\n",
            "WARNING:tensorflow:From /usr/local/lib/python3.6/dist-packages/keras/backend/tensorflow_backend.py:203: The name tf.Session is deprecated. Please use tf.compat.v1.Session instead.\n",
            "\n",
            "WARNING:tensorflow:From /usr/local/lib/python3.6/dist-packages/keras/backend/tensorflow_backend.py:207: The name tf.global_variables is deprecated. Please use tf.compat.v1.global_variables instead.\n",
            "\n",
            "WARNING:tensorflow:From /usr/local/lib/python3.6/dist-packages/keras/backend/tensorflow_backend.py:216: The name tf.is_variable_initialized is deprecated. Please use tf.compat.v1.is_variable_initialized instead.\n",
            "\n",
            "WARNING:tensorflow:From /usr/local/lib/python3.6/dist-packages/keras/backend/tensorflow_backend.py:223: The name tf.variables_initializer is deprecated. Please use tf.compat.v1.variables_initializer instead.\n",
            "\n",
            "WARNING:tensorflow:From /usr/local/lib/python3.6/dist-packages/keras/backend/tensorflow_backend.py:2041: The name tf.nn.fused_batch_norm is deprecated. Please use tf.compat.v1.nn.fused_batch_norm instead.\n",
            "\n",
            "WARNING:tensorflow:From /usr/local/lib/python3.6/dist-packages/keras/backend/tensorflow_backend.py:148: The name tf.placeholder_with_default is deprecated. Please use tf.compat.v1.placeholder_with_default instead.\n",
            "\n",
            "WARNING:tensorflow:From /usr/local/lib/python3.6/dist-packages/keras/backend/tensorflow_backend.py:4267: The name tf.nn.max_pool is deprecated. Please use tf.nn.max_pool2d instead.\n",
            "\n",
            "Downloading data from https://github.com/fchollet/deep-learning-models/releases/download/v0.4/xception_weights_tf_dim_ordering_tf_kernels_notop.h5\n",
            "83689472/83683744 [==============================] - 8s 0us/step\n"
          ],
          "name": "stdout"
        }
      ]
    },
    {
      "cell_type": "code",
      "metadata": {
        "id": "M1pX5vPimNpJ",
        "colab_type": "code",
        "colab": {}
      },
      "source": [
        "features_train = base_model.predict(X_train)\n",
        "features_valid = base_model.predict(X_valid)"
      ],
      "execution_count": 0,
      "outputs": []
    },
    {
      "cell_type": "code",
      "metadata": {
        "id": "sw9q5ayg9a85",
        "colab_type": "code",
        "outputId": "2b76866a-ed3b-4606-f5a7-adf9dab18894",
        "colab": {
          "base_uri": "https://localhost:8080/",
          "height": 34
        }
      },
      "source": [
        "features_train.max()"
      ],
      "execution_count": 0,
      "outputs": [
        {
          "output_type": "execute_result",
          "data": {
            "text/plain": [
              "15.96638"
            ]
          },
          "metadata": {
            "tags": []
          },
          "execution_count": 21
        }
      ]
    },
    {
      "cell_type": "code",
      "metadata": {
        "id": "t0G4UMjN9a89",
        "colab_type": "code",
        "colab": {}
      },
      "source": [
        "max_val = features_train.max()"
      ],
      "execution_count": 0,
      "outputs": []
    },
    {
      "cell_type": "code",
      "metadata": {
        "id": "nm2TIT-V9a9A",
        "colab_type": "code",
        "colab": {}
      },
      "source": [
        "features_train /= max_val\n",
        "features_valid /= max_val"
      ],
      "execution_count": 0,
      "outputs": []
    },
    {
      "cell_type": "code",
      "metadata": {
        "id": "8orqHG8BMTa_",
        "colab_type": "code",
        "colab": {}
      },
      "source": [
        "input_size = features_train.shape[1] * features_train.shape[2] * features_train.shape[3] "
      ],
      "execution_count": 0,
      "outputs": []
    },
    {
      "cell_type": "code",
      "metadata": {
        "id": "mDKZD_p69a9D",
        "colab_type": "code",
        "colab": {}
      },
      "source": [
        "features_train = features_train.reshape(features_train.shape[0], input_size)\n",
        "features_valid = features_valid.reshape(features_valid.shape[0], input_size)"
      ],
      "execution_count": 0,
      "outputs": []
    },
    {
      "cell_type": "markdown",
      "metadata": {
        "id": "qTTYBNErpVNz",
        "colab_type": "text"
      },
      "source": [
        "\n",
        "\n",
        "## Defining final layers of models"
      ]
    },
    {
      "cell_type": "code",
      "metadata": {
        "scrolled": true,
        "id": "9SJrYJVq9a9J",
        "colab_type": "code",
        "outputId": "7055dacd-fb14-4d4a-d8c8-ac3f15475118",
        "colab": {
          "base_uri": "https://localhost:8080/",
          "height": 122
        }
      },
      "source": [
        "model=Sequential()\n",
        "model.add(InputLayer((input_size, )))\n",
        "model.add(Dense(1024, activation='relu'))\n",
        "model.add(Dropout(0.3))\n",
        "model.add(Dense(units=1, activation='linear')) # 1 output: age\n",
        "\n",
        "adam = Adam(lr=1e-3)\n",
        "model.compile(loss='mean_squared_error', optimizer=adam)"
      ],
      "execution_count": 0,
      "outputs": [
        {
          "output_type": "stream",
          "text": [
            "WARNING:tensorflow:From /usr/local/lib/python3.6/dist-packages/keras/backend/tensorflow_backend.py:3733: calling dropout (from tensorflow.python.ops.nn_ops) with keep_prob is deprecated and will be removed in a future version.\n",
            "Instructions for updating:\n",
            "Please use `rate` instead of `keep_prob`. Rate should be set to `rate = 1 - keep_prob`.\n",
            "WARNING:tensorflow:From /usr/local/lib/python3.6/dist-packages/keras/optimizers.py:793: The name tf.train.Optimizer is deprecated. Please use tf.compat.v1.train.Optimizer instead.\n",
            "\n"
          ],
          "name": "stdout"
        }
      ]
    },
    {
      "cell_type": "code",
      "metadata": {
        "id": "_4HEBnow9a9P",
        "colab_type": "code",
        "colab": {}
      },
      "source": [
        "estop = EarlyStopping(patience=15, mode='min', min_delta=0.001, monitor='val_loss')"
      ],
      "execution_count": 0,
      "outputs": []
    },
    {
      "cell_type": "code",
      "metadata": {
        "scrolled": true,
        "id": "fYNWwNFZ9a9V",
        "colab_type": "code",
        "outputId": "0ea3cf9b-69a5-4694-cc5d-b2dbbe49023e",
        "colab": {
          "base_uri": "https://localhost:8080/",
          "height": 904
        }
      },
      "source": [
        "history = model.fit(features_train, Y_train, epochs=200, batch_size=512, callbacks=[estop] ,validation_data=(features_valid,Y_valid))"
      ],
      "execution_count": 0,
      "outputs": [
        {
          "output_type": "stream",
          "text": [
            "WARNING:tensorflow:From /usr/local/lib/python3.6/dist-packages/keras/backend/tensorflow_backend.py:1033: The name tf.assign_add is deprecated. Please use tf.compat.v1.assign_add instead.\n",
            "\n",
            "WARNING:tensorflow:From /usr/local/lib/python3.6/dist-packages/keras/backend/tensorflow_backend.py:1020: The name tf.assign is deprecated. Please use tf.compat.v1.assign instead.\n",
            "\n",
            "Train on 9737 samples, validate on 4174 samples\n",
            "Epoch 1/200\n",
            "9737/9737 [==============================] - 32s 3ms/step - loss: 316.5190 - val_loss: 170.9014\n",
            "Epoch 2/200\n",
            "9737/9737 [==============================] - 30s 3ms/step - loss: 131.8801 - val_loss: 115.0143\n",
            "Epoch 3/200\n",
            "9737/9737 [==============================] - 31s 3ms/step - loss: 111.0679 - val_loss: 110.2073\n",
            "Epoch 4/200\n",
            "9737/9737 [==============================] - 30s 3ms/step - loss: 105.3137 - val_loss: 111.1985\n",
            "Epoch 5/200\n",
            "9737/9737 [==============================] - 30s 3ms/step - loss: 103.3404 - val_loss: 107.3498\n",
            "Epoch 6/200\n",
            "9737/9737 [==============================] - 32s 3ms/step - loss: 103.1462 - val_loss: 105.7369\n",
            "Epoch 7/200\n",
            "9737/9737 [==============================] - 30s 3ms/step - loss: 99.3759 - val_loss: 104.7334\n",
            "Epoch 8/200\n",
            "9737/9737 [==============================] - 30s 3ms/step - loss: 96.8820 - val_loss: 103.5751\n",
            "Epoch 9/200\n",
            "9737/9737 [==============================] - 30s 3ms/step - loss: 94.8292 - val_loss: 103.9885\n",
            "Epoch 10/200\n",
            "9737/9737 [==============================] - 30s 3ms/step - loss: 93.7650 - val_loss: 104.5983\n",
            "Epoch 11/200\n",
            "9737/9737 [==============================] - 30s 3ms/step - loss: 92.6278 - val_loss: 104.1961\n",
            "Epoch 12/200\n",
            "9737/9737 [==============================] - 30s 3ms/step - loss: 91.3745 - val_loss: 104.6315\n",
            "Epoch 13/200\n",
            "9737/9737 [==============================] - 30s 3ms/step - loss: 89.5193 - val_loss: 106.3912\n",
            "Epoch 14/200\n",
            "9737/9737 [==============================] - 33s 3ms/step - loss: 88.4230 - val_loss: 103.9931\n",
            "Epoch 15/200\n",
            "9737/9737 [==============================] - 30s 3ms/step - loss: 85.4371 - val_loss: 104.1930\n",
            "Epoch 16/200\n",
            "9737/9737 [==============================] - 30s 3ms/step - loss: 85.4638 - val_loss: 106.9327\n",
            "Epoch 17/200\n",
            "9737/9737 [==============================] - 30s 3ms/step - loss: 86.0575 - val_loss: 105.5981\n",
            "Epoch 18/200\n",
            "9737/9737 [==============================] - 31s 3ms/step - loss: 82.6735 - val_loss: 105.7589\n",
            "Epoch 19/200\n",
            "9737/9737 [==============================] - 30s 3ms/step - loss: 84.7046 - val_loss: 105.0987\n",
            "Epoch 20/200\n",
            "9737/9737 [==============================] - 30s 3ms/step - loss: 83.1047 - val_loss: 105.0802\n",
            "Epoch 21/200\n",
            "9737/9737 [==============================] - 30s 3ms/step - loss: 83.2108 - val_loss: 106.6428\n",
            "Epoch 22/200\n",
            "9737/9737 [==============================] - 30s 3ms/step - loss: 79.0726 - val_loss: 105.7687\n",
            "Epoch 23/200\n",
            "9737/9737 [==============================] - 30s 3ms/step - loss: 77.9675 - val_loss: 107.0947\n"
          ],
          "name": "stdout"
        }
      ]
    },
    {
      "cell_type": "markdown",
      "metadata": {
        "id": "PanzX_697eq5",
        "colab_type": "text"
      },
      "source": [
        "Plotting loss"
      ]
    },
    {
      "cell_type": "code",
      "metadata": {
        "id": "zBQiGmDE690p",
        "colab_type": "code",
        "outputId": "ee87e8c3-b022-4602-c565-fd5eb4f61518",
        "colab": {
          "base_uri": "https://localhost:8080/",
          "height": 265
        }
      },
      "source": [
        "plt.plot(history.history['loss'], 'r')\n",
        "plt.plot(history.history['val_loss'], 'b')\n",
        "plt.legend({'training loss': 'r', 'validation loss':'b'})\n",
        "plt.show()"
      ],
      "execution_count": 0,
      "outputs": [
        {
          "output_type": "display_data",
          "data": {
            "image/png": "[encoded data removed]",
            "text/plain": [
              "<Figure size 432x288 with 1 Axes>"
            ]
          },
          "metadata": {
            "tags": []
          }
        }
      ]
    },
    {
      "cell_type": "markdown",
      "metadata": {
        "id": "ocZdWLocnc9D",
        "colab_type": "text"
      },
      "source": [
        "Saving weights for our model"
      ]
    },
    {
      "cell_type": "code",
      "metadata": {
        "id": "95qRx7iHnEOj",
        "colab_type": "code",
        "colab": {}
      },
      "source": [
        "model.save_weights(\"age_weights.h5\")"
      ],
      "execution_count": 0,
      "outputs": []
    },
    {
      "cell_type": "markdown",
      "metadata": {
        "id": "pmoV3-7jnHVM",
        "colab_type": "text"
      },
      "source": [
        "# Making predictions on new data"
      ]
    },
    {
      "cell_type": "code",
      "metadata": {
        "id": "GyYtIL_mnJS3",
        "colab_type": "code",
        "colab": {}
      },
      "source": [
        "csv_file = \"test.csv\"\n",
        "data = pd.read_csv(csv_file)"
      ],
      "execution_count": 0,
      "outputs": []
    },
    {
      "cell_type": "markdown",
      "metadata": {
        "id": "bCTXLlhusK2s",
        "colab_type": "text"
      },
      "source": [
        "## Loading data"
      ]
    },
    {
      "cell_type": "code",
      "metadata": {
        "id": "XgIUcNNosKfL",
        "colab_type": "code",
        "colab": {}
      },
      "source": [
        "images = []\n",
        "for img_name in data.image_names:\n",
        "    filename = img_dir + img_name\n",
        "    img = image.load_img(filename, target_size=(150, 150,3))\n",
        "    img = image.img_to_array(img)\n",
        "    images.append(img)\n",
        "\n",
        "\n",
        "images=np.array(images)\n"
      ],
      "execution_count": 0,
      "outputs": []
    },
    {
      "cell_type": "markdown",
      "metadata": {
        "id": "6I0lhLBDsTOq",
        "colab_type": "text"
      },
      "source": [
        "Storing test images in a pickle file."
      ]
    },
    {
      "cell_type": "code",
      "metadata": {
        "id": "bCwVHnlXsSPI",
        "colab_type": "code",
        "colab": {}
      },
      "source": [
        "file = open('test_images.pickle', 'wb') \n",
        "pickle.dump(images, file)                      \n",
        "file.close()"
      ],
      "execution_count": 0,
      "outputs": []
    },
    {
      "cell_type": "markdown",
      "metadata": {
        "id": "_LRseosisZsh",
        "colab_type": "text"
      },
      "source": [
        "Loading pickled test images"
      ]
    },
    {
      "cell_type": "code",
      "metadata": {
        "id": "BN-59rwpr7cs",
        "colab_type": "code",
        "outputId": "068ed860-40b8-413b-f0c1-5a46431c912e",
        "colab": {
          "base_uri": "https://localhost:8080/",
          "height": 34
        }
      },
      "source": [
        "file =  open(\"test_images.pickle\",\"rb\")\n",
        "images = pickle.load(file)\n",
        "file.close()\n",
        "print(len(images))"
      ],
      "execution_count": 0,
      "outputs": [
        {
          "output_type": "stream",
          "text": [
            "5962\n"
          ],
          "name": "stdout"
        }
      ]
    },
    {
      "cell_type": "code",
      "metadata": {
        "id": "alzDywQLsQrW",
        "colab_type": "code",
        "colab": {}
      },
      "source": [
        "X=preprocess_input(images)"
      ],
      "execution_count": 0,
      "outputs": []
    },
    {
      "cell_type": "markdown",
      "metadata": {
        "id": "IJQIBYI5ng0j",
        "colab_type": "text"
      },
      "source": [
        "## Loading the saved weights and preparing model for prediction"
      ]
    },
    {
      "cell_type": "code",
      "metadata": {
        "id": "78YXeBlKnizI",
        "colab_type": "code",
        "colab": {}
      },
      "source": [
        "base_model = Xception(weights='imagenet', input_shape=(150, 150, 3), include_top=False)"
      ],
      "execution_count": 0,
      "outputs": []
    },
    {
      "cell_type": "code",
      "metadata": {
        "id": "Bv7eORPNk96l",
        "colab_type": "code",
        "colab": {}
      },
      "source": [
        "features = base_model.predict(X)"
      ],
      "execution_count": 0,
      "outputs": []
    },
    {
      "cell_type": "code",
      "metadata": {
        "id": "E8hoRlVCoXRA",
        "colab_type": "code",
        "colab": {}
      },
      "source": [
        "features /= features.max()"
      ],
      "execution_count": 0,
      "outputs": []
    },
    {
      "cell_type": "code",
      "metadata": {
        "id": "01kmvuWjozB_",
        "colab_type": "code",
        "colab": {}
      },
      "source": [
        "input_size = features.shape[1] * features.shape[2] * features.shape[3]"
      ],
      "execution_count": 0,
      "outputs": []
    },
    {
      "cell_type": "code",
      "metadata": {
        "id": "O19Aa3aCo3gb",
        "colab_type": "code",
        "colab": {}
      },
      "source": [
        "features = features.reshape(features.shape[0], input_size)"
      ],
      "execution_count": 0,
      "outputs": []
    },
    {
      "cell_type": "code",
      "metadata": {
        "scrolled": true,
        "colab_type": "code",
        "id": "f9oj5BVUpFe-",
        "colab": {}
      },
      "source": [
        "model=Sequential()\n",
        "model.add(InputLayer((input_size, )))\n",
        "model.add(Dense(1024, activation='relu'))\n",
        "model.add(Dropout(0.3))\n",
        "model.add(Dense(units=1, activation='linear'))\n",
        "\n",
        "adam = Adam(lr=1e-3)\n",
        "model.compile(loss='mean_squared_error', optimizer=adam)"
      ],
      "execution_count": 0,
      "outputs": []
    },
    {
      "cell_type": "code",
      "metadata": {
        "id": "PbUufux2pA7U",
        "colab_type": "code",
        "colab": {}
      },
      "source": [
        "model.load_weights(\"age_weights.h5\")"
      ],
      "execution_count": 0,
      "outputs": []
    },
    {
      "cell_type": "markdown",
      "metadata": {
        "id": "FKTmE2hgzDuU",
        "colab_type": "text"
      },
      "source": [
        "## Make predictions"
      ]
    },
    {
      "cell_type": "code",
      "metadata": {
        "id": "EHt_8Cp2ssqo",
        "colab_type": "code",
        "colab": {}
      },
      "source": [
        "#print(type(features))"
      ],
      "execution_count": 0,
      "outputs": []
    },
    {
      "cell_type": "code",
      "metadata": {
        "id": "mLIpFncVsLzP",
        "colab_type": "code",
        "colab": {}
      },
      "source": [
        "y = model.predict(features)"
      ],
      "execution_count": 0,
      "outputs": []
    },
    {
      "cell_type": "code",
      "metadata": {
        "id": "eiazp4g21r4j",
        "colab_type": "code",
        "outputId": "288540be-13e4-471a-91c5-956f8fe2907a",
        "colab": {
          "base_uri": "https://localhost:8080/",
          "height": 51
        }
      },
      "source": [
        "print(\"min: \",y.min())\n",
        "print(\"max: \",y.max())"
      ],
      "execution_count": 0,
      "outputs": [
        {
          "output_type": "stream",
          "text": [
            "min:  17.09322\n",
            "max:  52.70974\n"
          ],
          "name": "stdout"
        }
      ]
    },
    {
      "cell_type": "code",
      "metadata": {
        "id": "E-eoxX64hwjs",
        "colab_type": "code",
        "outputId": "c193d0b1-d101-4824-dd8b-45d4b8cda9b2",
        "colab": {
          "base_uri": "https://localhost:8080/",
          "height": 34
        }
      },
      "source": [
        "print(y.dtype)"
      ],
      "execution_count": 0,
      "outputs": [
        {
          "output_type": "stream",
          "text": [
            "float32\n"
          ],
          "name": "stdout"
        }
      ]
    },
    {
      "cell_type": "code",
      "metadata": {
        "id": "-V844j9zUTQq",
        "colab_type": "code",
        "colab": {}
      },
      "source": [
        "output = pd.DataFrame(y)"
      ],
      "execution_count": 0,
      "outputs": []
    },
    {
      "cell_type": "code",
      "metadata": {
        "id": "CYMKEruTWFAK",
        "colab_type": "code",
        "colab": {}
      },
      "source": [
        "data['age_labels'] = output"
      ],
      "execution_count": 0,
      "outputs": []
    },
    {
      "cell_type": "code",
      "metadata": {
        "id": "teykT7FQuLJ7",
        "colab_type": "code",
        "outputId": "369e0e65-f310-4302-8f6e-7ff94dcf7d5d",
        "colab": {
          "base_uri": "https://localhost:8080/",
          "height": 204
        }
      },
      "source": [
        "data.head()"
      ],
      "execution_count": 0,
      "outputs": [
        {
          "output_type": "execute_result",
          "data": {
            "text/html": [
              "<div>\n",
              "<style scoped>\n",
              "    .dataframe tbody tr th:only-of-type {\n",
              "        vertical-align: middle;\n",
              "    }\n",
              "\n",
              "    .dataframe tbody tr th {\n",
              "        vertical-align: top;\n",
              "    }\n",
              "\n",
              "    .dataframe thead th {\n",
              "        text-align: right;\n",
              "    }\n",
              "</style>\n",
              "<table border=\"1\" class=\"dataframe\">\n",
              "  <thead>\n",
              "    <tr style=\"text-align: right;\">\n",
              "      <th></th>\n",
              "      <th>image_names</th>\n",
              "      <th>age_labels</th>\n",
              "    </tr>\n",
              "  </thead>\n",
              "  <tbody>\n",
              "    <tr>\n",
              "      <th>0</th>\n",
              "      <td>3950.jpg</td>\n",
              "      <td>37.991394</td>\n",
              "    </tr>\n",
              "    <tr>\n",
              "      <th>1</th>\n",
              "      <td>1272.jpg</td>\n",
              "      <td>33.104393</td>\n",
              "    </tr>\n",
              "    <tr>\n",
              "      <th>2</th>\n",
              "      <td>14384.jpg</td>\n",
              "      <td>30.618887</td>\n",
              "    </tr>\n",
              "    <tr>\n",
              "      <th>3</th>\n",
              "      <td>18501.jpg</td>\n",
              "      <td>36.154205</td>\n",
              "    </tr>\n",
              "    <tr>\n",
              "      <th>4</th>\n",
              "      <td>3165.jpg</td>\n",
              "      <td>26.751371</td>\n",
              "    </tr>\n",
              "  </tbody>\n",
              "</table>\n",
              "</div>"
            ],
            "text/plain": [
              "  image_names  age_labels\n",
              "0    3950.jpg   37.991394\n",
              "1    1272.jpg   33.104393\n",
              "2   14384.jpg   30.618887\n",
              "3   18501.jpg   36.154205\n",
              "4    3165.jpg   26.751371"
            ]
          },
          "metadata": {
            "tags": []
          },
          "execution_count": 48
        }
      ]
    },
    {
      "cell_type": "code",
      "metadata": {
        "id": "4x5Mpm-HQ_gK",
        "colab_type": "code",
        "colab": {}
      },
      "source": [
        "data = data.astype({\"age_labels\": int})"
      ],
      "execution_count": 0,
      "outputs": []
    },
    {
      "cell_type": "markdown",
      "metadata": {
        "id": "dFL-rypYu5md",
        "colab_type": "text"
      },
      "source": [
        "Checking the minimum and maximum of predicted ages"
      ]
    },
    {
      "cell_type": "code",
      "metadata": {
        "id": "oRv8E41WrT7a",
        "colab_type": "code",
        "outputId": "79ad0f56-f272-46ad-ba06-d2011777e2b4",
        "colab": {
          "base_uri": "https://localhost:8080/",
          "height": 51
        }
      },
      "source": [
        "print(data['age_labels'].min())\n",
        "print(data['age_labels'].max())"
      ],
      "execution_count": 0,
      "outputs": [
        {
          "output_type": "stream",
          "text": [
            "17\n",
            "52\n"
          ],
          "name": "stdout"
        }
      ]
    },
    {
      "cell_type": "code",
      "metadata": {
        "id": "zCsr03YhXIyP",
        "colab_type": "code",
        "colab": {}
      },
      "source": [
        "data.to_csv(\"final_output.csv\",index = False)"
      ],
      "execution_count": 0,
      "outputs": []
    },
    {
      "cell_type": "markdown",
      "metadata": {
        "id": "5hzkyf3OuGIA",
        "colab_type": "text"
      },
      "source": [
        "Let us have a look at how our model has predicted the ages for the new images"
      ]
    },
    {
      "cell_type": "code",
      "metadata": {
        "id": "B2fdISh1mc-Z",
        "colab_type": "code",
        "outputId": "35edbca3-c793-4b03-ba04-587e711a92b4",
        "colab": {
          "base_uri": "https://localhost:8080/",
          "height": 282
        }
      },
      "source": [
        "data['age_labels'].hist()"
      ],
      "execution_count": 0,
      "outputs": [
        {
          "output_type": "execute_result",
          "data": {
            "text/plain": [
              "<matplotlib.axes._subplots.AxesSubplot at 0x7f0dbc935e80>"
            ]
          },
          "metadata": {
            "tags": []
          },
          "execution_count": 54
        },
        {
          "output_type": "display_data",
          "data": {
            "image/png": "[encoded data removed]",
            "text/plain": [
              "<Figure size 432x288 with 1 Axes>"
            ]
          },
          "metadata": {
            "tags": []
          }
        }
      ]
    }
  ]
}
